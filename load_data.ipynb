{
 "cells": [
  {
   "cell_type": "code",
   "execution_count": 1,
   "metadata": {
    "collapsed": true
   },
   "outputs": [],
   "source": [
    "import numpy as np\n",
    "import pandas as pd\n",
    "from sklearn.model_selection import train_test_split"
   ]
  },
  {
   "cell_type": "code",
   "execution_count": 2,
   "metadata": {
    "collapsed": true
   },
   "outputs": [],
   "source": [
    "def load_data(filepath, y_label_value):\n",
    "    x = np.load(filepath).transpose()\n",
    "    y = np.full(x.shape[0], y_label_value)\n",
    "    y = y.reshape(y.shape[0],1)\n",
    "    print(\"X shape {}\".format(x.shape))\n",
    "    input_data = np.append(x, y, axis=1) \n",
    "    print(\"Input shape {}\".format(input_data.shape))\n",
    "    return input_data"
   ]
  },
  {
   "cell_type": "code",
   "execution_count": 9,
   "metadata": {
    "collapsed": true
   },
   "outputs": [],
   "source": [
    "def create_train_val_test(x, y):\n",
    "    x_train, x_intermediate, y_train, y_intermediate = train_test_split(x, y, test_size=0.2, random_state=42)\n",
    "    print(\"Train shape x: {}, y:{}\".format(x_train.shape, y_intermediate.shape))\n",
    "    print(\"Intermediate shape x: {}, y:{}\".format(x_intermediate.shape, y_train.shape))\n",
    "    x_val, x_test, y_val, y_test = train_test_split(x_intermediate, y_intermediate, test_size=0.5, random_state=42)\n",
    "    print(\"Val shape x: {}, y:{}\".format(x_val.shape, y_val.shape))\n",
    "    print(\"Test shape x: {}, y:{}\".format(x_test.shape, y_test.shape))\n",
    "    return(x_train, y_train, x_val, y_val, x_test, y_test)"
   ]
  },
  {
   "cell_type": "code",
   "execution_count": 10,
   "metadata": {},
   "outputs": [],
   "source": [
    "def load():\n",
    "    filepath_fish = \"/Users/karangm/Downloads/fish_1.npy\"\n",
    "    input_fish = load_data(filepath_fish, 0)\n",
    "    filepath_fork = \"/Users/karangm/Downloads/fork_1.npy\"\n",
    "    input_fork = load_data(filepath_fork, 1)\n",
    "    input_data = np.concatenate((input_fish, input_fork), axis=0)\n",
    "    np.random.shuffle(input_data)\n",
    "    print(\"Input shape {}\".format(input_data.shape))\n",
    "    \n",
    "    ## Split into x and y\n",
    "    x = input_data[:, :65535]\n",
    "    y = input_data[:, 65536]\n",
    "    \n",
    "    ## Split into train(80), validation(10), test(10)\n",
    "    x_train, y_train, x_val, y_val, x_test, y_test = create_train_val_test(x, y)\n",
    "    \n",
    "    return(x_train, y_train, x_val, y_val, x_test, y_test)"
   ]
  },
  {
   "cell_type": "code",
   "execution_count": 11,
   "metadata": {},
   "outputs": [
    {
     "name": "stdout",
     "output_type": "stream",
     "text": [
      "X shape (1000, 65536)\n",
      "Input shape (1000, 65537)\n",
      "X shape (1000, 65536)\n",
      "Input shape (1000, 65537)\n",
      "Input shape (2000, 65537)\n",
      "Train shape x: (1600, 65535), y:(400,)\n",
      "Intermediate shape x: (400, 65535), y:(1600,)\n",
      "Val shape x: (200, 65535), y:(200,)\n",
      "Test shape x: (200, 65535), y:(200,)\n"
     ]
    }
   ],
   "source": [
    "x_train, y_train, x_val, y_val, x_test, y_test = load()"
   ]
  },
  {
   "cell_type": "code",
   "execution_count": null,
   "metadata": {},
   "outputs": [],
   "source": [
    "input_data.shape"
   ]
  },
  {
   "cell_type": "code",
   "execution_count": null,
   "metadata": {},
   "outputs": [],
   "source": [
    "input_data[:, :65535].shape"
   ]
  },
  {
   "cell_type": "code",
   "execution_count": null,
   "metadata": {},
   "outputs": [],
   "source": [
    "input_data[:, 65536].shape"
   ]
  },
  {
   "cell_type": "code",
   "execution_count": null,
   "metadata": {
    "collapsed": true
   },
   "outputs": [],
   "source": []
  }
 ],
 "metadata": {
  "kernelspec": {
   "display_name": "ds5220",
   "language": "python",
   "name": "ds5220"
  },
  "language_info": {
   "codemirror_mode": {
    "name": "ipython",
    "version": 3
   },
   "file_extension": ".py",
   "mimetype": "text/x-python",
   "name": "python",
   "nbconvert_exporter": "python",
   "pygments_lexer": "ipython3",
   "version": "3.6.3"
  }
 },
 "nbformat": 4,
 "nbformat_minor": 2
}
