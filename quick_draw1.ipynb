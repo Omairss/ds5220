{
  "nbformat": 4,
  "nbformat_minor": 0,
  "metadata": {
    "colab": {
      "name": "quick_draw1.ipynb",
      "version": "0.3.2",
      "provenance": [],
      "include_colab_link": true
    },
    "kernelspec": {
      "name": "python3",
      "display_name": "Python 3"
    }
  },
  "cells": [
    {
      "cell_type": "markdown",
      "metadata": {
        "id": "view-in-github",
        "colab_type": "text"
      },
      "source": [
        "[View in Colaboratory](https://colab.research.google.com/github/tbonza/ds5220/blob/master/quick_draw1.ipynb)"
      ]
    },
    {
      "metadata": {
        "id": "sydnoWQYBdX9",
        "colab_type": "text"
      },
      "cell_type": "markdown",
      "source": [
        "# Summary\n",
        "\n",
        "Reference: [Kaggle, Image-Based CNN](https://www.kaggle.com/jpmiller/image-based-cnn)"
      ]
    },
    {
      "metadata": {
        "id": "mnftIqvTBpZU",
        "colab_type": "text"
      },
      "cell_type": "markdown",
      "source": [
        "# Install Packages and Load Data Sample\n",
        "\n",
        "We want to take an initial first look at the data and see how to work with the image data."
      ]
    },
    {
      "metadata": {
        "id": "20ZRQGo4QfTX",
        "colab_type": "code",
        "colab": {}
      },
      "cell_type": "code",
      "source": [
        "from google.colab import drive"
      ],
      "execution_count": 0,
      "outputs": []
    },
    {
      "metadata": {
        "id": "Mj51IW2nQoYV",
        "colab_type": "code",
        "outputId": "e8d7f4c2-b1e8-4c95-e85e-b598d3afe983",
        "colab": {
          "base_uri": "https://localhost:8080/",
          "height": 122
        }
      },
      "cell_type": "code",
      "source": [
        "drive.mount('/content/gdrive')"
      ],
      "execution_count": 3,
      "outputs": [
        {
          "output_type": "stream",
          "text": [
            "Go to this URL in a browser: https://accounts.google.com/o/oauth2/auth?client_id=947318989803-6bn6qk8qdgf4n4g3pfee6491hc0brc4i.apps.googleusercontent.com&redirect_uri=urn%3Aietf%3Awg%3Aoauth%3A2.0%3Aoob&scope=email%20https%3A%2F%2Fwww.googleapis.com%2Fauth%2Fdocs.test%20https%3A%2F%2Fwww.googleapis.com%2Fauth%2Fdrive%20https%3A%2F%2Fwww.googleapis.com%2Fauth%2Fdrive.photos.readonly%20https%3A%2F%2Fwww.googleapis.com%2Fauth%2Fpeopleapi.readonly&response_type=code\n",
            "\n",
            "Enter your authorization code:\n",
            "··········\n",
            "Mounted at /content/gdrive\n"
          ],
          "name": "stdout"
        }
      ]
    },
    {
      "metadata": {
        "id": "JNnFZs4W-t-W",
        "colab_type": "code",
        "colab": {
          "base_uri": "https://localhost:8080/",
          "height": 51
        },
        "outputId": "3b8fb4f7-7602-47a8-a884-022b78cb65da"
      },
      "cell_type": "code",
      "source": [
        "!pip install dask\n",
        "!pip install cloudpickle"
      ],
      "execution_count": 64,
      "outputs": [
        {
          "output_type": "stream",
          "text": [
            "Requirement already satisfied: dask in /usr/local/lib/python3.6/dist-packages (0.19.4)\n",
            "Requirement already satisfied: cloudpickle in /usr/local/lib/python3.6/dist-packages (0.6.1)\n"
          ],
          "name": "stdout"
        }
      ]
    },
    {
      "metadata": {
        "id": "aBX2SHBLSrQz",
        "colab_type": "code",
        "colab": {}
      },
      "cell_type": "code",
      "source": [
        "import ast\n",
        "import io\n",
        "import os\n",
        "import zipfile\n",
        "\n",
        "from dask import bag\n",
        "import pandas as pd\n",
        "from PIL import Image, ImageDraw \n",
        "import matplotlib.pyplot as plt\n",
        "import numpy as np\n",
        "from tqdm import tqdm\n",
        "\n",
        "import tensorflow as tf\n",
        "from tensorflow import keras\n",
        "from tensorflow.keras.models import Sequential\n",
        "from tensorflow.keras.layers import Dense, Dropout, Flatten\n",
        "from tensorflow.keras.layers import Conv2D, MaxPooling2D\n",
        "from tensorflow.keras.metrics import top_k_categorical_accuracy\n",
        "from tensorflow.keras.callbacks import ModelCheckpoint, ReduceLROnPlateau, EarlyStopping\n",
        "\n",
        "%matplotlib inline"
      ],
      "execution_count": 0,
      "outputs": []
    },
    {
      "metadata": {
        "id": "rIstIHz1S0qE",
        "colab_type": "code",
        "colab": {}
      },
      "cell_type": "code",
      "source": [
        "fpath = \"gdrive/My Drive/gcolab/train_simplified.zip\""
      ],
      "execution_count": 0,
      "outputs": []
    },
    {
      "metadata": {
        "id": "AnK1i0YxS12w",
        "colab_type": "code",
        "colab": {
          "base_uri": "https://localhost:8080/",
          "height": 34
        },
        "outputId": "99d10f25-d4c3-4b1d-eb68-938e4191a6bf"
      },
      "cell_type": "code",
      "source": [
        "with zipfile.ZipFile(fpath) as myzip:\n",
        "  with myzip.open('trombone.csv') as myfile:\n",
        "    data_trombone = myfile.read()\n",
        "  print(myzip.namelist()[:5])"
      ],
      "execution_count": 15,
      "outputs": [
        {
          "output_type": "stream",
          "text": [
            "['fence.csv', 'yoga.csv', 'horse.csv', 'sandwich.csv', 'cat.csv']\n"
          ],
          "name": "stdout"
        }
      ]
    },
    {
      "metadata": {
        "id": "iWLNh-YWyU5n",
        "colab_type": "code",
        "colab": {}
      },
      "cell_type": "code",
      "source": [
        "cnames = ['countrycode', 'drawing', 'key_id', 'recognized', 'timestamp', 'word']\n",
        "\n",
        "df = pd.read_csv(io.StringIO(data_trombone.decode(\"utf-8\")))\n",
        "df.columns = cnames"
      ],
      "execution_count": 0,
      "outputs": []
    },
    {
      "metadata": {
        "id": "9nODC_b5y3Sl",
        "colab_type": "code",
        "colab": {
          "base_uri": "https://localhost:8080/",
          "height": 34
        },
        "outputId": "313f5ce0-9eaf-4622-9c78-3774284e7c04"
      },
      "cell_type": "code",
      "source": [
        "df.shape"
      ],
      "execution_count": 30,
      "outputs": [
        {
          "output_type": "execute_result",
          "data": {
            "text/plain": [
              "(184759, 6)"
            ]
          },
          "metadata": {
            "tags": []
          },
          "execution_count": 30
        }
      ]
    },
    {
      "metadata": {
        "id": "XbNBIy_L3s2b",
        "colab_type": "code",
        "colab": {
          "base_uri": "https://localhost:8080/",
          "height": 204
        },
        "outputId": "9c85dea0-20bb-4e6e-d021-c6a6288f4526"
      },
      "cell_type": "code",
      "source": [
        "df.head()"
      ],
      "execution_count": 31,
      "outputs": [
        {
          "output_type": "execute_result",
          "data": {
            "text/html": [
              "<div>\n",
              "<style scoped>\n",
              "    .dataframe tbody tr th:only-of-type {\n",
              "        vertical-align: middle;\n",
              "    }\n",
              "\n",
              "    .dataframe tbody tr th {\n",
              "        vertical-align: top;\n",
              "    }\n",
              "\n",
              "    .dataframe thead th {\n",
              "        text-align: right;\n",
              "    }\n",
              "</style>\n",
              "<table border=\"1\" class=\"dataframe\">\n",
              "  <thead>\n",
              "    <tr style=\"text-align: right;\">\n",
              "      <th></th>\n",
              "      <th>countrycode</th>\n",
              "      <th>drawing</th>\n",
              "      <th>key_id</th>\n",
              "      <th>recognized</th>\n",
              "      <th>timestamp</th>\n",
              "      <th>word</th>\n",
              "    </tr>\n",
              "  </thead>\n",
              "  <tbody>\n",
              "    <tr>\n",
              "      <th>0</th>\n",
              "      <td>US</td>\n",
              "      <td>[[[225, 218, 211, 197, 191, 185, 187, 194, 209...</td>\n",
              "      <td>4910981694095360</td>\n",
              "      <td>True</td>\n",
              "      <td>2017-03-25 01:09:19.281480</td>\n",
              "      <td>trombone</td>\n",
              "    </tr>\n",
              "    <tr>\n",
              "      <th>1</th>\n",
              "      <td>ID</td>\n",
              "      <td>[[[35, 185, 209, 231, 237, 237, 222, 201, 137,...</td>\n",
              "      <td>6122256692412416</td>\n",
              "      <td>True</td>\n",
              "      <td>2017-03-28 12:46:12.440900</td>\n",
              "      <td>trombone</td>\n",
              "    </tr>\n",
              "    <tr>\n",
              "      <th>2</th>\n",
              "      <td>US</td>\n",
              "      <td>[[[118, 113, 114, 120, 127, 134, 137, 141, 133...</td>\n",
              "      <td>5020720214048768</td>\n",
              "      <td>True</td>\n",
              "      <td>2017-04-03 16:56:01.955510</td>\n",
              "      <td>trombone</td>\n",
              "    </tr>\n",
              "    <tr>\n",
              "      <th>3</th>\n",
              "      <td>IT</td>\n",
              "      <td>[[[0, 25, 102, 149, 255, 255], [69, 51, 25, 3,...</td>\n",
              "      <td>4928415318671360</td>\n",
              "      <td>False</td>\n",
              "      <td>2017-03-03 20:17:01.648820</td>\n",
              "      <td>trombone</td>\n",
              "    </tr>\n",
              "    <tr>\n",
              "      <th>4</th>\n",
              "      <td>US</td>\n",
              "      <td>[[[4, 33, 200, 207, 206, 182, 166, 137, 12, 3,...</td>\n",
              "      <td>5824340362788864</td>\n",
              "      <td>True</td>\n",
              "      <td>2017-03-06 05:40:02.469670</td>\n",
              "      <td>trombone</td>\n",
              "    </tr>\n",
              "  </tbody>\n",
              "</table>\n",
              "</div>"
            ],
            "text/plain": [
              "  countrycode                                            drawing  \\\n",
              "0          US  [[[225, 218, 211, 197, 191, 185, 187, 194, 209...   \n",
              "1          ID  [[[35, 185, 209, 231, 237, 237, 222, 201, 137,...   \n",
              "2          US  [[[118, 113, 114, 120, 127, 134, 137, 141, 133...   \n",
              "3          IT  [[[0, 25, 102, 149, 255, 255], [69, 51, 25, 3,...   \n",
              "4          US  [[[4, 33, 200, 207, 206, 182, 166, 137, 12, 3,...   \n",
              "\n",
              "             key_id  recognized                   timestamp      word  \n",
              "0  4910981694095360        True  2017-03-25 01:09:19.281480  trombone  \n",
              "1  6122256692412416        True  2017-03-28 12:46:12.440900  trombone  \n",
              "2  5020720214048768        True  2017-04-03 16:56:01.955510  trombone  \n",
              "3  4928415318671360       False  2017-03-03 20:17:01.648820  trombone  \n",
              "4  5824340362788864        True  2017-03-06 05:40:02.469670  trombone  "
            ]
          },
          "metadata": {
            "tags": []
          },
          "execution_count": 31
        }
      ]
    },
    {
      "metadata": {
        "id": "dkWl76S0_Rrx",
        "colab_type": "text"
      },
      "cell_type": "markdown",
      "source": [
        "# Plotting Images"
      ]
    },
    {
      "metadata": {
        "id": "j2j1yXXJ6T6M",
        "colab_type": "code",
        "colab": {}
      },
      "cell_type": "code",
      "source": [
        "def plot_images(df, start, end):\n",
        "  \n",
        "  example1s = [ast.literal_eval(pts) for pts in df.drawing.values]\n",
        "  labels = df.word.tolist()\n",
        "  \n",
        "  i = 0\n",
        "  for example in example1s[start:end]:\n",
        "  \n",
        "    plt.figure(figsize=(6,3))\n",
        "    \n",
        "    for x,y in example:\n",
        "      plt.subplot(1,2,1)\n",
        "      plt.plot(x, y, marker='.')\n",
        "      plt.axis('off')\n",
        "      plt.title(labels[start + i], fontsize=10)\n",
        "      \n",
        "      i += 1\n",
        "      \n",
        "  return plt"
      ],
      "execution_count": 0,
      "outputs": []
    },
    {
      "metadata": {
        "id": "RmI-wCT18Ufq",
        "colab_type": "code",
        "colab": {
          "base_uri": "https://localhost:8080/",
          "height": 920
        },
        "outputId": "f132d17f-d2ac-4094-ec6d-29d283e62369"
      },
      "cell_type": "code",
      "source": [
        "plot_images(df, 0, 4)"
      ],
      "execution_count": 56,
      "outputs": [
        {
          "output_type": "stream",
          "text": [
            "/usr/local/lib/python3.6/dist-packages/matplotlib/cbook/deprecation.py:106: MatplotlibDeprecationWarning: Adding an axes using the same arguments as a previous axes currently reuses the earlier instance.  In a future version, a new instance will always be created and returned.  Meanwhile, this warning can be suppressed, and the future behavior ensured, by passing a unique label to each axes instance.\n",
            "  warnings.warn(message, mplDeprecation, stacklevel=1)\n"
          ],
          "name": "stderr"
        },
        {
          "output_type": "execute_result",
          "data": {
            "text/plain": [
              "<module 'matplotlib.pyplot' from '/usr/local/lib/python3.6/dist-packages/matplotlib/pyplot.py'>"
            ]
          },
          "metadata": {
            "tags": []
          },
          "execution_count": 56
        },
        {
          "output_type": "display_data",
          "data": {
            "image/png": "[encoded data removed]",
            "text/plain": [
              "<matplotlib.figure.Figure at 0x7f934ff61908>"
            ]
          },
          "metadata": {
            "tags": []
          }
        },
        {
          "output_type": "display_data",
          "data": {
            "image/png": "[encoded data removed]",
            "text/plain": [
              "<matplotlib.figure.Figure at 0x7f934ff611d0>"
            ]
          },
          "metadata": {
            "tags": []
          }
        },
        {
          "output_type": "display_data",
          "data": {
            "image/png": "[encoded data removed]",
            "text/plain": [
              "<matplotlib.figure.Figure at 0x7f934fe68b38>"
            ]
          },
          "metadata": {
            "tags": []
          }
        },
        {
          "output_type": "display_data",
          "data": {
            "image/png": "[encoded data removed]",
            "text/plain": [
              "<matplotlib.figure.Figure at 0x7f934fe79c88>"
            ]
          },
          "metadata": {
            "tags": []
          }
        }
      ]
    },
    {
      "metadata": {
        "id": "-Icwvzvx_cT-",
        "colab_type": "text"
      },
      "cell_type": "markdown",
      "source": [
        "# Making a Prediction"
      ]
    },
    {
      "metadata": {
        "id": "U6CzR7op_kgo",
        "colab_type": "code",
        "colab": {}
      },
      "cell_type": "code",
      "source": [
        "# faster conversion function\n",
        "def draw_it(strokes):\n",
        "    image = Image.new(\"P\", (256,256), color=255)\n",
        "    image_draw = ImageDraw.Draw(image)\n",
        "    for stroke in ast.literal_eval(strokes):\n",
        "        for i in range(len(stroke[0])-1):\n",
        "            image_draw.line([stroke[0][i], \n",
        "                             stroke[1][i],\n",
        "                             stroke[0][i+1], \n",
        "                             stroke[1][i+1]],\n",
        "                            fill=0, width=5)\n",
        "    image = image.resize((imheight, imwidth))\n",
        "    return np.array(image)/255."
      ],
      "execution_count": 0,
      "outputs": []
    },
    {
      "metadata": {
        "id": "kolEFTyKDnYX",
        "colab_type": "code",
        "colab": {
          "base_uri": "https://localhost:8080/",
          "height": 51
        },
        "outputId": "8efe4d4e-027d-46dd-ff7f-2dacf8f91c64"
      },
      "cell_type": "code",
      "source": [
        "print(classfiles[0])\n",
        "\n",
        "train_grand = []\n",
        "with zipfile.ZipFile(fpath) as myzip:\n",
        "  \n",
        "  classfiles = myzip.namelist()\n",
        "  numstonames = {i: v[:-4].replace(\" \", \"_\") for i, v in enumerate(classfiles)}\n",
        "  \n",
        "  for i, c in enumerate(tqdm(classfiles[0:num_classes])):\n",
        "    with myzip.open(c) as myfile:\n",
        "   \n",
        "      train = pd.read_csv(io.StringIO(myfile.read().decode(\"utf-8\")), \n",
        "                          usecols=['drawing', 'recognized'], \n",
        "                          nrows=ims_per_class*5//4)\n",
        "      train = train[train.recognized == True].head(ims_per_class)\n",
        "      imagebag = bag.from_sequence(train.drawing.values).map(draw_it) \n",
        "      trainarray = np.array(imagebag.compute())  # PARALLELIZE\n",
        "      trainarray = np.reshape(trainarray, (ims_per_class, -1))\n",
        "      labelarray = np.full((train.shape[0], 1), i)\n",
        "      trainarray = np.concatenate((labelarray, trainarray), axis=1)\n",
        "      train_grand.append(trainarray)\n",
        "      \n",
        "#less memory than np.concatenate\n",
        "      \n",
        "train_grand = np.array([train_grand.pop() for i in np.arange(num_classes)]) \n",
        "train_grand = train_grand.reshape((-1, (imheight*imwidth+1)))"
      ],
      "execution_count": 95,
      "outputs": [
        {
          "output_type": "stream",
          "text": [
            "\r  0%|          | 0/340 [00:00<?, ?it/s]"
          ],
          "name": "stderr"
        },
        {
          "output_type": "stream",
          "text": [
            "fence.csv\n"
          ],
          "name": "stdout"
        },
        {
          "output_type": "stream",
          "text": [
            "100%|██████████| 340/340 [14:29<00:00,  2.82s/it]\n"
          ],
          "name": "stderr"
        }
      ]
    },
    {
      "metadata": {
        "id": "XAHtuyEPD2Ip",
        "colab_type": "code",
        "colab": {}
      },
      "cell_type": "code",
      "source": [
        "del trainarray\n",
        "del train"
      ],
      "execution_count": 0,
      "outputs": []
    },
    {
      "metadata": {
        "id": "7em15LmmJwA1",
        "colab_type": "code",
        "colab": {
          "base_uri": "https://localhost:8080/",
          "height": 85
        },
        "outputId": "3abed9fe-aa8e-48dd-c8c3-f82ce4e44ea8"
      },
      "cell_type": "code",
      "source": [
        "# memory-friendly alternative to train_test_split?\n",
        "valfrac = 0.1\n",
        "cutpt = int(valfrac * train_grand.shape[0])\n",
        "\n",
        "np.random.shuffle(train_grand)\n",
        "y_train, X_train = train_grand[cutpt: , 0], train_grand[cutpt: , 1:]\n",
        "y_val, X_val = train_grand[0:cutpt, 0], train_grand[0:cutpt, 1:] #validation set is recognized==True\n",
        "\n",
        "del train_grand\n",
        "\n",
        "y_train = keras.utils.to_categorical(y_train, num_classes)\n",
        "X_train = X_train.reshape(X_train.shape[0], imheight, imwidth, 1)\n",
        "y_val = keras.utils.to_categorical(y_val, num_classes)\n",
        "X_val = X_val.reshape(X_val.shape[0], imheight, imwidth, 1)\n",
        "\n",
        "print(y_train.shape, \"\\n\",\n",
        "      X_train.shape, \"\\n\",\n",
        "      y_val.shape, \"\\n\",\n",
        "      X_val.shape)"
      ],
      "execution_count": 97,
      "outputs": [
        {
          "output_type": "stream",
          "text": [
            "(612000, 340) \n",
            " (612000, 32, 32, 1) \n",
            " (68000, 340) \n",
            " (68000, 32, 32, 1)\n"
          ],
          "name": "stdout"
        }
      ]
    },
    {
      "metadata": {
        "id": "plghr-pgJ0_y",
        "colab_type": "code",
        "colab": {
          "base_uri": "https://localhost:8080/",
          "height": 442
        },
        "outputId": "a58b94cc-1b14-4589-9cda-bd0a8dfe332e"
      },
      "cell_type": "code",
      "source": [
        "model = Sequential()\n",
        "model.add(Conv2D(32, kernel_size=(3, 3), padding='same', activation='relu', input_shape=(imheight, imwidth, 1)))\n",
        "model.add(MaxPooling2D(pool_size=(2, 2)))\n",
        "model.add(Conv2D(64, kernel_size=(3, 3), padding='same', activation='relu'))\n",
        "model.add(MaxPooling2D(pool_size=(2, 2)))\n",
        "model.add(Dropout(0.2))\n",
        "model.add(Flatten())\n",
        "model.add(Dense(680, activation='relu'))\n",
        "model.add(Dropout(0.5))\n",
        "model.add(Dense(num_classes, activation='softmax'))\n",
        "model.summary()"
      ],
      "execution_count": 98,
      "outputs": [
        {
          "output_type": "stream",
          "text": [
            "_________________________________________________________________\n",
            "Layer (type)                 Output Shape              Param #   \n",
            "=================================================================\n",
            "conv2d (Conv2D)              (None, 32, 32, 32)        320       \n",
            "_________________________________________________________________\n",
            "max_pooling2d (MaxPooling2D) (None, 16, 16, 32)        0         \n",
            "_________________________________________________________________\n",
            "conv2d_1 (Conv2D)            (None, 16, 16, 64)        18496     \n",
            "_________________________________________________________________\n",
            "max_pooling2d_1 (MaxPooling2 (None, 8, 8, 64)          0         \n",
            "_________________________________________________________________\n",
            "dropout (Dropout)            (None, 8, 8, 64)          0         \n",
            "_________________________________________________________________\n",
            "flatten (Flatten)            (None, 4096)              0         \n",
            "_________________________________________________________________\n",
            "dense (Dense)                (None, 680)               2785960   \n",
            "_________________________________________________________________\n",
            "dropout_1 (Dropout)          (None, 680)               0         \n",
            "_________________________________________________________________\n",
            "dense_1 (Dense)              (None, 340)               231540    \n",
            "=================================================================\n",
            "Total params: 3,036,316\n",
            "Trainable params: 3,036,316\n",
            "Non-trainable params: 0\n",
            "_________________________________________________________________\n"
          ],
          "name": "stdout"
        }
      ]
    },
    {
      "metadata": {
        "id": "SzTJqFSHJ5e0",
        "colab_type": "code",
        "colab": {
          "base_uri": "https://localhost:8080/",
          "height": 156
        },
        "outputId": "a785f99b-cc92-4f01-ae40-8b7b8ee0662d"
      },
      "cell_type": "code",
      "source": [
        "def top_3_accuracy(x,y): \n",
        "    t3 = top_k_categorical_accuracy(x,y, 3)\n",
        "    return t3\n",
        "\n",
        "reduceLROnPlat = ReduceLROnPlateau(monitor='val_loss', factor=0.5, patience=3, \n",
        "                                   verbose=1, mode='auto', min_delta=0.005, cooldown=5, min_lr=0.0001)\n",
        "earlystop = EarlyStopping(monitor='val_top_3_accuracy', mode='max', patience=5) \n",
        "callbacks = [reduceLROnPlat, earlystop]\n",
        "\n",
        "model.compile(loss='categorical_crossentropy',\n",
        "              optimizer='adam',\n",
        "              metrics=['accuracy', top_3_accuracy])\n",
        "\n",
        "model.fit(x=X_train, y=y_train,\n",
        "          batch_size = 32,\n",
        "          epochs = 22,\n",
        "          validation_data = (X_val, y_val),\n",
        "          callbacks = callbacks,\n",
        "          verbose = 1)"
      ],
      "execution_count": 0,
      "outputs": [
        {
          "output_type": "stream",
          "text": [
            "Train on 612000 samples, validate on 68000 samples\n",
            "Epoch 1/22\n",
            "612000/612000 [==============================] - 2308s 4ms/step - loss: 3.0953 - acc: 0.3048 - top_3_accuracy: 0.4942 - val_loss: 2.2168 - val_acc: 0.4689 - val_top_3_accuracy: 0.6799\n",
            "Epoch 2/22\n",
            "612000/612000 [==============================] - 2334s 4ms/step - loss: 2.5363 - acc: 0.3969 - top_3_accuracy: 0.6087 - val_loss: 2.0688 - val_acc: 0.5017 - val_top_3_accuracy: 0.7112\n",
            "Epoch 3/22\n",
            "482848/612000 [======================>.......] - ETA: 8:04 - loss: 2.4007 - acc: 0.4220 - top_3_accuracy: 0.6360Buffered data was truncated after reaching the output size limit."
          ],
          "name": "stdout"
        }
      ]
    },
    {
      "metadata": {
        "id": "ULKiSP4TJ83k",
        "colab_type": "code",
        "colab": {}
      },
      "cell_type": "code",
      "source": [
        "print(\"hello\")"
      ],
      "execution_count": 0,
      "outputs": []
    },
    {
      "metadata": {
        "id": "qRXjAYN1mrX-",
        "colab_type": "code",
        "colab": {}
      },
      "cell_type": "code",
      "source": [
        ""
      ],
      "execution_count": 0,
      "outputs": []
    }
  ]
}